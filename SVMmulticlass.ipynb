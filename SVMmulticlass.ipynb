{
 "cells": [
  {
   "cell_type": "code",
   "execution_count": 2,
   "metadata": {
    "collapsed": true
   },
   "outputs": [],
   "source": [
    "%matplotlib inline"
   ]
  },
  {
   "cell_type": "code",
   "execution_count": 15,
   "metadata": {
    "collapsed": true
   },
   "outputs": [],
   "source": [
    "import pandas as pd\n",
    "from skimage import io\n",
    "import numpy as np\n",
    "import os\n",
    "import re\n",
    "from PIL import Image\n",
    "import math\n",
    "import sklearn.svm\n",
    "import sklearn.linear_model\n",
    "import numpy as np\n",
    "from matplotlib import pyplot as plt\n",
    "#setup a standard image size; this will distort some images but will get everything into the same shape\n",
    "STANDARD_SIZE = (300, 167)"
   ]
  },
  {
   "cell_type": "code",
   "execution_count": 3,
   "metadata": {
    "collapsed": true
   },
   "outputs": [],
   "source": [
    "def load_data(ids, width, height, color):\n",
    "    N = len(ids)\n",
    "    if color:\n",
    "        d = width*height*3\n",
    "    else:\n",
    "        d = width*height\n",
    "\n",
    "    data = np.zeros((N, d))\n",
    "    for i, ident in enumerate(ids):\n",
    "        filename = \"../roof_images/\" + str(ident) + '.jpg'\n",
    "        image = Image.open(filename)\n",
    "        resized_image = image.resize((width, height), resample=Image.ANTIALIAS)\n",
    "        image_data = np.asarray(resized_image, dtype=np.uint8)\n",
    "        assert image_data.shape == (height, width, 3)\n",
    "        if color:\n",
    "            data[i, :] = image_data.ravel()\n",
    "        else:\n",
    "            data[i, :] = image_data.mean(axis=2).ravel()\n",
    "    return data\n",
    "\n",
    "\n",
    "def load_all_data(train_ids, val_ids, test_ids, l, color):\n",
    "    width = l\n",
    "    height = l\n",
    "\n",
    "    train_data = load_data(train_ids, width, height, color)\n",
    "    val_data = load_data(val_ids, width, height, color)\n",
    "    test_data = load_data(test_ids, width, height, color)\n",
    "\n",
    "    return train_data, val_data, test_data"
   ]
  },
  {
   "cell_type": "code",
   "execution_count": 37,
   "metadata": {
    "collapsed": true
   },
   "outputs": [],
   "source": [
    "def four_balanced_classes():\n",
    "    data = pd.read_csv(\"../data/train.csv\")\n",
    "    \n",
    "    N_train = 4000\n",
    "    N_val = 1000\n",
    "    N_test = 1000\n",
    "\n",
    "    ident_list = data[\"Id\"].tolist()\n",
    "    orientations =  pd.Series(data[\"label\"].values,index=data[\"Id\"]).to_dict()\n",
    "\n",
    "    l1 = [ident for ident, o in orientations.items() if o == 1]\n",
    "    l2 = [ident for ident, o in orientations.items() if o == 2]\n",
    "    l3 = [ident for ident, o in orientations.items() if o == 3]\n",
    "    l4 = [ident for ident, o in orientations.items() if o == 4]\n",
    "\n",
    "    np.random.shuffle(l1)\n",
    "    np.random.shuffle(l2)\n",
    "    np.random.shuffle(l3)\n",
    "    np.random.shuffle(l4)\n",
    "\n",
    "    cut1 = int(math.floor(N_train/2))\n",
    "    cut2 = int(math.floor(N_train/2+N_val/2))\n",
    "    cut3 = int(math.floor(N_train/2+N_val/2+N_test/2))\n",
    "    train_ids = l1[:cut1] + l2[:cut1] + l3[:cut1] + l4[:cut1]\n",
    "    val_ids = l1[cut1: cut2] + l2[cut1: cut2] + l3[cut1: cut2] + l4[cut1: cut2]\n",
    "    test_ids = l1[cut2: cut3] + l2[cut2: cut3] + l3[cut1: cut2] + l4[cut1: cut2]\n",
    "\n",
    "    np.random.shuffle(train_ids)\n",
    "    np.random.shuffle(val_ids)\n",
    "    np.random.shuffle(test_ids)\n",
    "\n",
    "    train_labels = np.array([int(orientations[ident]) for ident in train_ids])\n",
    "    val_labels = np.array([int(orientations[ident]) for ident in val_ids])\n",
    "    test_labels = np.array([int(orientations[ident]) for ident in test_ids])\n",
    "\n",
    "    return train_ids, val_ids, test_ids, train_labels, val_labels, test_labels"
   ]
  },
  {
   "cell_type": "code",
   "execution_count": 54,
   "metadata": {
    "collapsed": true
   },
   "outputs": [],
   "source": [
    "def two_balanced_classes():\n",
    "    data = pd.read_csv(\"../data/train.csv\")\n",
    "    \n",
    "    N_train = 4000\n",
    "    N_val = 1000\n",
    "    N_test = 1000\n",
    "\n",
    "    ident_list = data[\"Id\"].tolist()\n",
    "    orientations =  pd.Series(data[\"label\"].values,index=data[\"Id\"]).to_dict()\n",
    "\n",
    "    l1 = [ident for ident, o in orientations.items() if o == 1]\n",
    "    l2 = [ident for ident, o in orientations.items() if o == 2]\n",
    "\n",
    "\n",
    "    np.random.shuffle(l1)\n",
    "    np.random.shuffle(l2)\n",
    "    np.random.shuffle(l3)\n",
    "    np.random.shuffle(l4)\n",
    "\n",
    "    cut1 = int(math.floor(N_train/2))\n",
    "    cut2 = int(math.floor(N_train/2+N_val/2))\n",
    "    cut3 = int(math.floor(N_train/2+N_val/2+N_test/2))\n",
    "    train_ids = l1[:cut1] + l2[:cut1] \n",
    "    val_ids = l1[cut1: cut2] + l2[cut1: cut2] \n",
    "    test_ids = l1[cut2: cut3] + l2[cut2: cut3] \n",
    "\n",
    "    np.random.shuffle(train_ids)\n",
    "    np.random.shuffle(val_ids)\n",
    "    np.random.shuffle(test_ids)\n",
    "\n",
    "    train_labels = np.array([int(orientations[ident]) for ident in train_ids])\n",
    "    val_labels = np.array([int(orientations[ident]) for ident in val_ids])\n",
    "    test_labels = np.array([int(orientations[ident]) for ident in test_ids])\n",
    "\n",
    "    return train_ids, val_ids, test_ids, train_labels, val_labels, test_labels"
   ]
  },
  {
   "cell_type": "code",
   "execution_count": 44,
   "metadata": {
    "collapsed": false
   },
   "outputs": [],
   "source": [
    "train_ids, val_ids, test_ids, train_labels, val_labels, test_labels = four_balanced_classes()"
   ]
  },
  {
   "cell_type": "markdown",
   "metadata": {},
   "source": [
    "# SVM"
   ]
  },
  {
   "cell_type": "code",
   "execution_count": 12,
   "metadata": {
    "collapsed": true
   },
   "outputs": [],
   "source": [
    "color = True"
   ]
  },
  {
   "cell_type": "code",
   "execution_count": 45,
   "metadata": {
    "collapsed": false,
    "scrolled": true
   },
   "outputs": [],
   "source": [
    "\n",
    "l_list = [5, 6, 8, 10, 13, 16]\n",
    "errors = np.zeros(len(l_list))\n",
    "for i, l in enumerate(l_list):\n",
    "    train_data, val_data, test_data = load_all_data(train_ids, val_ids, test_ids, l, color)\n",
    "    model = sklearn.svm.LinearSVC(penalty='l2', C=1e10, dual=False)\n",
    "    model.fit(train_data, train_labels)\n",
    "    predictions = model.predict(val_data)\n",
    "    err = (predictions != val_labels).sum() / len(val_labels)\n",
    "    \n",
    "    errors[i] = err"
   ]
  },
  {
   "cell_type": "code",
   "execution_count": 46,
   "metadata": {
    "collapsed": false
   },
   "outputs": [
    {
     "data": {
      "text/plain": [
       "<matplotlib.text.Text at 0xb1d00b8>"
      ]
     },
     "execution_count": 46,
     "metadata": {},
     "output_type": "execute_result"
    },
    {
     "data": {
      "image/png": "[encoded data removed]",
      "text/plain": [
       "<matplotlib.figure.Figure at 0xb3cada0>"
      ]
     },
     "metadata": {},
     "output_type": "display_data"
    }
   ],
   "source": [
    "plt.plot(l_list, errors)\n",
    "plt.title(\"Taux d'erreur en fonction de la taille\")\n",
    "plt.xlabel(\"Taille de l'image 'l'\")\n",
    "plt.ylabel(\"Taux d'erreur\")"
   ]
  },
  {
   "cell_type": "code",
   "execution_count": 47,
   "metadata": {
    "collapsed": false
   },
   "outputs": [
    {
     "data": {
      "text/plain": [
       "0.20399999999999999"
      ]
     },
     "execution_count": 47,
     "metadata": {},
     "output_type": "execute_result"
    }
   ],
   "source": [
    "i_opt = np.argmin(errors)\n",
    "l_opt = l_list[i_opt]\n",
    "train_data, val_data, test_data = load_all_data(train_ids, val_ids, test_ids, l_opt, color)\n",
    "model = sklearn.svm.LinearSVC(penalty='l2', C=1e10, dual=False)\n",
    "model.fit(train_data, train_labels)\n",
    "predictions = model.predict(test_data)\n",
    "err = (predictions != test_labels).sum() / len(test_labels)\n",
    "err"
   ]
  },
  {
   "cell_type": "code",
   "execution_count": 53,
   "metadata": {
    "collapsed": false
   },
   "outputs": [
    {
     "data": {
      "text/plain": [
       "0.16600000000000001"
      ]
     },
     "execution_count": 53,
     "metadata": {},
     "output_type": "execute_result"
    }
   ],
   "source": [
    "color = False\n",
    "i_opt = np.argmin(errors)\n",
    "l_opt = l_list[i_opt]\n",
    "train_data, val_data, test_data = load_all_data(train_ids, val_ids, test_ids, l_opt, color)\n",
    "model = sklearn.svm.LinearSVC(penalty='l2', C=1e10, dual=False)\n",
    "model.fit(train_data, train_labels)\n",
    "predictions = model.predict(test_data)\n",
    "err = (predictions != test_labels).sum() / len(test_labels)\n",
    "err"
   ]
  },
  {
   "cell_type": "code",
   "execution_count": 56,
   "metadata": {
    "collapsed": false,
    "scrolled": true
   },
   "outputs": [],
   "source": [
    "color = False\n",
    "sub =  pd.read_csv(\"../data/sample_submission4.csv\")\n",
    "submission_ids = sub[\"Id\"].tolist()\n",
    "submission_ids\n",
    "subdata = load_data(submission_ids, l_opt, l_opt, color)"
   ]
  },
  {
   "cell_type": "code",
   "execution_count": 62,
   "metadata": {
    "collapsed": false
   },
   "outputs": [
    {
     "data": {
      "text/plain": [
       "(13999,)"
      ]
     },
     "execution_count": 62,
     "metadata": {},
     "output_type": "execute_result"
    }
   ],
   "source": [
    "predictions = model.predict(subdata)\n",
    "predictions"
   ]
  },
  {
   "cell_type": "code",
   "execution_count": 64,
   "metadata": {
    "collapsed": false
   },
   "outputs": [
    {
     "data": {
      "text/plain": [
       "array([766723500, 739273600, 156621880, ..., 357899800, 157694911,\n",
       "       443388199], dtype=int64)"
      ]
     },
     "execution_count": 64,
     "metadata": {},
     "output_type": "execute_result"
    }
   ],
   "source": [
    "sub_ids_numpy= sub[\"Id\"].as_matrix()\n",
    "sub_ids_numpy"
   ]
  },
  {
   "cell_type": "code",
   "execution_count": 66,
   "metadata": {
    "collapsed": false
   },
   "outputs": [
    {
     "data": {
      "text/plain": [
       "(13999,)"
      ]
     },
     "execution_count": 66,
     "metadata": {},
     "output_type": "execute_result"
    }
   ],
   "source": [
    "sub_ids_numpy.shape"
   ]
  },
  {
   "cell_type": "code",
   "execution_count": 76,
   "metadata": {
    "collapsed": false
   },
   "outputs": [],
   "source": [
    "output = np.column_stack((sub_ids_numpy.flatten(),predictions.flatten()))\n",
    "np.savetxt('submission.csv', output, fmt=\"%s\", delimiter=',', header = \"Id,label\")"
   ]
  }
 ],
 "metadata": {
  "kernelspec": {
   "display_name": "Python 3",
   "language": "python",
   "name": "python3"
  },
  "language_info": {
   "codemirror_mode": {
    "name": "ipython",
    "version": 3
   },
   "file_extension": ".py",
   "mimetype": "text/x-python",
   "name": "python",
   "nbconvert_exporter": "python",
   "pygments_lexer": "ipython3",
   "version": "3.5.1"
  }
 },
 "nbformat": 4,
 "nbformat_minor": 0
}
